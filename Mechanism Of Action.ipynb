{
 "cells": [
  {
   "cell_type": "markdown",
   "metadata": {
    "papermill": {
     "duration": 0.016644,
     "end_time": "2020-10-27T20:37:49.180471",
     "exception": false,
     "start_time": "2020-10-27T20:37:49.163827",
     "status": "completed"
    },
    "tags": []
   },
   "source": [
    "**Compared to first draft, we will add batch normalization layer, we'll remove highly correlated features and apply PCA dimensionality reduction**"
   ]
  },
  {
   "cell_type": "code",
   "execution_count": 1,
   "metadata": {
    "_cell_guid": "b1076dfc-b9ad-4769-8c92-a6c4dae69d19",
    "_uuid": "8f2839f25d086af736a60e9eeb907d3b93b6e0e5",
    "execution": {
     "iopub.execute_input": "2020-10-27T20:37:49.218638Z",
     "iopub.status.busy": "2020-10-27T20:37:49.217541Z",
     "iopub.status.idle": "2020-10-27T20:37:49.223205Z",
     "shell.execute_reply": "2020-10-27T20:37:49.222450Z"
    },
    "papermill": {
     "duration": 0.027243,
     "end_time": "2020-10-27T20:37:49.223326",
     "exception": false,
     "start_time": "2020-10-27T20:37:49.196083",
     "status": "completed"
    },
    "tags": []
   },
   "outputs": [
    {
     "name": "stdout",
     "output_type": "stream",
     "text": [
      "/kaggle/input/lish-moa/train_features.csv\n",
      "/kaggle/input/lish-moa/test_features.csv\n",
      "/kaggle/input/lish-moa/train_targets_nonscored.csv\n",
      "/kaggle/input/lish-moa/sample_submission.csv\n",
      "/kaggle/input/lish-moa/train_targets_scored.csv\n"
     ]
    }
   ],
   "source": [
    "# Input data files are available in the read-only \"../input/\" directory\n",
    "# For example, running this (by clicking run or pressing Shift+Enter) will list all files under the input directory\n",
    "\n",
    "import os\n",
    "for dirname, _, filenames in os.walk('/kaggle/input'):\n",
    "    for filename in filenames:\n",
    "        print(os.path.join(dirname, filename))"
   ]
  },
  {
   "cell_type": "markdown",
   "metadata": {
    "papermill": {
     "duration": 0.018509,
     "end_time": "2020-10-27T20:37:49.258522",
     "exception": false,
     "start_time": "2020-10-27T20:37:49.240013",
     "status": "completed"
    },
    "tags": []
   },
   "source": [
    "# Import Section"
   ]
  },
  {
   "cell_type": "code",
   "execution_count": 2,
   "metadata": {
    "_cell_guid": "79c7e3d0-c299-4dcb-8224-4455121ee9b0",
    "_uuid": "d629ff2d2480ee46fbb7e2d37f6b5fab8052498a",
    "execution": {
     "iopub.execute_input": "2020-10-27T20:37:49.301530Z",
     "iopub.status.busy": "2020-10-27T20:37:49.300679Z",
     "iopub.status.idle": "2020-10-27T20:37:56.814203Z",
     "shell.execute_reply": "2020-10-27T20:37:56.813585Z"
    },
    "papermill": {
     "duration": 7.539408,
     "end_time": "2020-10-27T20:37:56.814337",
     "exception": false,
     "start_time": "2020-10-27T20:37:49.274929",
     "status": "completed"
    },
    "tags": []
   },
   "outputs": [],
   "source": [
    "import numpy as np \n",
    "import pandas as pd \n",
    "import matplotlib.pyplot as plt #used for basic plotting\n",
    "import seaborn as sns #used for advanced plotting\n",
    "\n",
    "from sklearn.model_selection import train_test_split\n",
    "from sklearn.neighbors import KNeighborsClassifier\n",
    "from sklearn.ensemble import RandomForestClassifier\n",
    "from sklearn.neural_network import MLPClassifier\n",
    "from sklearn.model_selection import GridSearchCV\n",
    "from sklearn.metrics import log_loss\n",
    "from sklearn.decomposition import PCA\n",
    "\n",
    "from keras.models import Sequential\n",
    "from keras.layers import Dense, Dropout, BatchNormalization\n",
    "from keras.losses import BinaryCrossentropy\n",
    "from keras.wrappers.scikit_learn import KerasClassifier\n",
    "from keras.callbacks import EarlyStopping"
   ]
  },
  {
   "cell_type": "markdown",
   "metadata": {
    "papermill": {
     "duration": 0.015827,
     "end_time": "2020-10-27T20:37:56.846725",
     "exception": false,
     "start_time": "2020-10-27T20:37:56.830898",
     "status": "completed"
    },
    "tags": []
   },
   "source": [
    "# Constants Section"
   ]
  },
  {
   "cell_type": "code",
   "execution_count": 3,
   "metadata": {
    "execution": {
     "iopub.execute_input": "2020-10-27T20:37:56.888999Z",
     "iopub.status.busy": "2020-10-27T20:37:56.888003Z",
     "iopub.status.idle": "2020-10-27T20:37:56.891205Z",
     "shell.execute_reply": "2020-10-27T20:37:56.890427Z"
    },
    "papermill": {
     "duration": 0.028426,
     "end_time": "2020-10-27T20:37:56.891331",
     "exception": false,
     "start_time": "2020-10-27T20:37:56.862905",
     "status": "completed"
    },
    "tags": []
   },
   "outputs": [],
   "source": [
    "RUN_KERAS, INVESTIGATE_BEST_MODEL, MAKE_PREDICTION = True, False, True\n",
    "\n",
    "param ={'definition' : {'n_inputs': None,\n",
    "                        'n_output': None, # needs to be updated before use\n",
    "                        'optimizer': 'adam',\n",
    "                        'loss': 'binary_crossentropy',\n",
    "                        'activation':'relu',\n",
    "                        'dropout': 0.5},\n",
    "       'fitting' : {'batch_size':200,\n",
    "                    'epochs':200,\n",
    "                    'callbacks': [],\n",
    "                    'validation_split':0.2},\n",
    "        'PCA':{'min_n_components':400\n",
    "            \n",
    "                }\n",
    "       }"
   ]
  },
  {
   "cell_type": "markdown",
   "metadata": {
    "papermill": {
     "duration": 0.016651,
     "end_time": "2020-10-27T20:37:56.924556",
     "exception": false,
     "start_time": "2020-10-27T20:37:56.907905",
     "status": "completed"
    },
    "tags": []
   },
   "source": [
    "# Useful functions"
   ]
  },
  {
   "cell_type": "code",
   "execution_count": 4,
   "metadata": {
    "execution": {
     "iopub.execute_input": "2020-10-27T20:37:56.982628Z",
     "iopub.status.busy": "2020-10-27T20:37:56.981508Z",
     "iopub.status.idle": "2020-10-27T20:37:56.984624Z",
     "shell.execute_reply": "2020-10-27T20:37:56.983999Z"
    },
    "papermill": {
     "duration": 0.043584,
     "end_time": "2020-10-27T20:37:56.984752",
     "exception": false,
     "start_time": "2020-10-27T20:37:56.941168",
     "status": "completed"
    },
    "tags": []
   },
   "outputs": [],
   "source": [
    "def preprocess_data(data):\n",
    "    res = data.copy()\n",
    "    if(\"sig_id\" in res.columns):\n",
    "        res.set_index(\"sig_id\", inplace=True)\n",
    "    if(\"cp_type\" in res.columns):\n",
    "        res[\"cp_type\"] = (res[\"cp_type\"] == \"trt_cp\").apply(lambda x: int(x)) #1 if \"trt_cp\" and 0 if \"ctl_vehicle\"\n",
    "    if(\"cp_dose\" in res.columns):\n",
    "        res[\"cp_dose\"] = (res[\"cp_dose\"] == \"D1\").apply(lambda x: int(x)) #1 if \"D1\" and 0 if \"D2\"\n",
    "    if(\"cp_time\" in res.columns):\n",
    "        res[\"cp_time\"] = res[\"cp_time\"] // 24 - 1\n",
    "    return res\n",
    "\n",
    "def read_data(file_path):\n",
    "    return preprocess_data(pd.read_csv(file_path))\n",
    "\n",
    "def define_model(param):\n",
    "    assert param['n_inputs'] != None and param['n_outputs'] != None, \"Data Shape is None\"\n",
    "    \n",
    "    clf = Sequential()\n",
    "    #input layer\n",
    "    clf.add(Dense(int(1.5 * param['n_inputs']), input_dim=param['n_inputs'], activation=param['activation']))\n",
    "    clf.add(BatchNormalization())\n",
    "    clf.add(Dropout(param['dropout']))\n",
    "    \n",
    "    #first hidden layers\n",
    "    clf.add(Dense(int(param['n_inputs']), activation=param['activation']))\n",
    "    clf.add(BatchNormalization())\n",
    "    clf.add(Dropout(param['dropout']))\n",
    "    \n",
    "    #second hidden layers\n",
    "    clf.add(Dense(int(2 * param['n_outputs']), activation=param['activation']))\n",
    "    clf.add(BatchNormalization())\n",
    "    clf.add(Dropout(param['dropout']))\n",
    "    \n",
    "    #third hidden layers\n",
    "    clf.add(Dense(int(1.5 * param['n_outputs']), activation=param['activation']))\n",
    "    clf.add(BatchNormalization())\n",
    "    clf.add(Dropout(param['dropout']))\n",
    "    \n",
    "    #output layer\n",
    "    clf.add(Dense(param['n_outputs'], activation = 'sigmoid'))\n",
    "    \n",
    "    clf.compile(optimizer=param['optimizer'],loss=param['loss'])\n",
    "    \n",
    "    return clf\n"
   ]
  },
  {
   "cell_type": "markdown",
   "metadata": {
    "papermill": {
     "duration": 0.016321,
     "end_time": "2020-10-27T20:37:57.017738",
     "exception": false,
     "start_time": "2020-10-27T20:37:57.001417",
     "status": "completed"
    },
    "tags": []
   },
   "source": [
    "# Loading & Preparing data"
   ]
  },
  {
   "cell_type": "markdown",
   "metadata": {
    "papermill": {
     "duration": 0.016146,
     "end_time": "2020-10-27T20:37:57.050440",
     "exception": false,
     "start_time": "2020-10-27T20:37:57.034294",
     "status": "completed"
    },
    "tags": []
   },
   "source": [
    "### Loading"
   ]
  },
  {
   "cell_type": "code",
   "execution_count": 5,
   "metadata": {
    "execution": {
     "iopub.execute_input": "2020-10-27T20:37:57.091372Z",
     "iopub.status.busy": "2020-10-27T20:37:57.090068Z",
     "iopub.status.idle": "2020-10-27T20:38:04.521268Z",
     "shell.execute_reply": "2020-10-27T20:38:04.520650Z"
    },
    "papermill": {
     "duration": 7.45444,
     "end_time": "2020-10-27T20:38:04.521400",
     "exception": false,
     "start_time": "2020-10-27T20:37:57.066960",
     "status": "completed"
    },
    "tags": []
   },
   "outputs": [],
   "source": [
    "#load training data\n",
    "X = train_features = read_data(\"/kaggle/input/lish-moa/train_features.csv\")\n",
    "Y = train_targets_scored = read_data(\"/kaggle/input/lish-moa/train_targets_scored.csv\")\n",
    "train_targets_non_scored = read_data(\"/kaggle/input/lish-moa/train_targets_nonscored.csv\")\n",
    "\n",
    "#load testing data\n",
    "test_features = read_data(\"/kaggle/input/lish-moa/test_features.csv\")"
   ]
  },
  {
   "cell_type": "markdown",
   "metadata": {
    "papermill": {
     "duration": 0.016656,
     "end_time": "2020-10-27T20:38:04.555475",
     "exception": false,
     "start_time": "2020-10-27T20:38:04.538819",
     "status": "completed"
    },
    "tags": []
   },
   "source": [
    "### removing highly correlated features"
   ]
  },
  {
   "cell_type": "code",
   "execution_count": 6,
   "metadata": {
    "execution": {
     "iopub.execute_input": "2020-10-27T20:38:04.601020Z",
     "iopub.status.busy": "2020-10-27T20:38:04.598207Z",
     "iopub.status.idle": "2020-10-27T20:39:25.307444Z",
     "shell.execute_reply": "2020-10-27T20:39:25.306762Z"
    },
    "papermill": {
     "duration": 80.73489,
     "end_time": "2020-10-27T20:39:25.307610",
     "exception": false,
     "start_time": "2020-10-27T20:38:04.572720",
     "status": "completed"
    },
    "tags": []
   },
   "outputs": [],
   "source": [
    "threshold, columns_to_remove = 0.8, []\n",
    "corr = X.corr()\n",
    "for i in range(len(corr.columns)):\n",
    "    cond = False\n",
    "    for j in range(i+1,len(corr.columns)):\n",
    "        if(corr.iloc[j][corr.columns[i]] >= threshold and corr.index[j] not in columns_to_remove):\n",
    "            columns_to_remove.append(corr.index[j])\n",
    "\n",
    "#keep only poorly correlated features\n",
    "X = X[list(set(X.columns)-set(columns_to_remove))]"
   ]
  },
  {
   "cell_type": "markdown",
   "metadata": {
    "papermill": {
     "duration": 0.016817,
     "end_time": "2020-10-27T20:39:25.341867",
     "exception": false,
     "start_time": "2020-10-27T20:39:25.325050",
     "status": "completed"
    },
    "tags": []
   },
   "source": [
    "### Dimensionality reduction with PCA"
   ]
  },
  {
   "cell_type": "code",
   "execution_count": 7,
   "metadata": {
    "execution": {
     "iopub.execute_input": "2020-10-27T20:39:25.394585Z",
     "iopub.status.busy": "2020-10-27T20:39:25.393808Z",
     "iopub.status.idle": "2020-10-27T20:39:30.245306Z",
     "shell.execute_reply": "2020-10-27T20:39:30.244415Z"
    },
    "papermill": {
     "duration": 4.885774,
     "end_time": "2020-10-27T20:39:30.245454",
     "exception": false,
     "start_time": "2020-10-27T20:39:25.359680",
     "status": "completed"
    },
    "tags": []
   },
   "outputs": [],
   "source": [
    "pca = PCA(n_components=min(param['PCA']['min_n_components'], len(X.columns)), svd_solver='auto')\n",
    "X = pca.fit_transform(X)"
   ]
  },
  {
   "cell_type": "markdown",
   "metadata": {
    "papermill": {
     "duration": 0.01741,
     "end_time": "2020-10-27T20:39:30.280246",
     "exception": false,
     "start_time": "2020-10-27T20:39:30.262836",
     "status": "completed"
    },
    "tags": []
   },
   "source": [
    "# Modelization Section"
   ]
  },
  {
   "cell_type": "code",
   "execution_count": 8,
   "metadata": {
    "execution": {
     "iopub.execute_input": "2020-10-27T20:39:30.329250Z",
     "iopub.status.busy": "2020-10-27T20:39:30.328415Z",
     "iopub.status.idle": "2020-10-27T20:41:47.312863Z",
     "shell.execute_reply": "2020-10-27T20:41:47.313536Z"
    },
    "papermill": {
     "duration": 137.014884,
     "end_time": "2020-10-27T20:41:47.313753",
     "exception": false,
     "start_time": "2020-10-27T20:39:30.298869",
     "status": "completed"
    },
    "tags": []
   },
   "outputs": [
    {
     "name": "stdout",
     "output_type": "stream",
     "text": [
      "Epoch 1/200\n",
      "67/67 [==============================] - 2s 32ms/step - loss: 0.7249 - val_loss: 0.4769\n",
      "Epoch 2/200\n",
      "67/67 [==============================] - 2s 24ms/step - loss: 0.2961 - val_loss: 0.0965\n",
      "Epoch 3/200\n",
      "67/67 [==============================] - 2s 24ms/step - loss: 0.0673 - val_loss: 0.0374\n",
      "Epoch 4/200\n",
      "67/67 [==============================] - 2s 24ms/step - loss: 0.0346 - val_loss: 0.0267\n",
      "Epoch 5/200\n",
      "67/67 [==============================] - 2s 24ms/step - loss: 0.0274 - val_loss: 0.0234\n",
      "Epoch 6/200\n",
      "67/67 [==============================] - 2s 25ms/step - loss: 0.0243 - val_loss: 0.0220\n",
      "Epoch 7/200\n",
      "67/67 [==============================] - 2s 26ms/step - loss: 0.0230 - val_loss: 0.0212\n",
      "Epoch 8/200\n",
      "67/67 [==============================] - 2s 25ms/step - loss: 0.0220 - val_loss: 0.0205\n",
      "Epoch 9/200\n",
      "67/67 [==============================] - 2s 25ms/step - loss: 0.0215 - val_loss: 0.0201\n",
      "Epoch 10/200\n",
      "67/67 [==============================] - 2s 24ms/step - loss: 0.0211 - val_loss: 0.0198\n",
      "Epoch 11/200\n",
      "67/67 [==============================] - 2s 24ms/step - loss: 0.0208 - val_loss: 0.0196\n",
      "Epoch 12/200\n",
      "67/67 [==============================] - 2s 24ms/step - loss: 0.0208 - val_loss: 0.0195\n",
      "Epoch 13/200\n",
      "67/67 [==============================] - 2s 24ms/step - loss: 0.0203 - val_loss: 0.0193\n",
      "Epoch 14/200\n",
      "67/67 [==============================] - 2s 29ms/step - loss: 0.0202 - val_loss: 0.0192\n",
      "Epoch 15/200\n",
      "67/67 [==============================] - 2s 26ms/step - loss: 0.0200 - val_loss: 0.0190\n",
      "Epoch 16/200\n",
      "67/67 [==============================] - 2s 27ms/step - loss: 0.0198 - val_loss: 0.0189\n",
      "Epoch 17/200\n",
      "67/67 [==============================] - 2s 27ms/step - loss: 0.0196 - val_loss: 0.0188\n",
      "Epoch 18/200\n",
      "67/67 [==============================] - 2s 26ms/step - loss: 0.0195 - val_loss: 0.0187\n",
      "Epoch 19/200\n",
      "67/67 [==============================] - 2s 25ms/step - loss: 0.0195 - val_loss: 0.0186\n",
      "Epoch 20/200\n",
      "67/67 [==============================] - 2s 29ms/step - loss: 0.0193 - val_loss: 0.0185\n",
      "Epoch 21/200\n",
      "67/67 [==============================] - 2s 24ms/step - loss: 0.0192 - val_loss: 0.0184\n",
      "Epoch 22/200\n",
      "67/67 [==============================] - 2s 25ms/step - loss: 0.0192 - val_loss: 0.0183\n",
      "Epoch 23/200\n",
      "67/67 [==============================] - 2s 25ms/step - loss: 0.0190 - val_loss: 0.0182\n",
      "Epoch 24/200\n",
      "67/67 [==============================] - 2s 24ms/step - loss: 0.0190 - val_loss: 0.0181\n",
      "Epoch 25/200\n",
      "67/67 [==============================] - 2s 25ms/step - loss: 0.0190 - val_loss: 0.0181\n",
      "Epoch 26/200\n",
      "67/67 [==============================] - 2s 25ms/step - loss: 0.0188 - val_loss: 0.0180\n",
      "Epoch 27/200\n",
      "67/67 [==============================] - 2s 24ms/step - loss: 0.0187 - val_loss: 0.0179\n",
      "Epoch 28/200\n",
      "67/67 [==============================] - 2s 24ms/step - loss: 0.0186 - val_loss: 0.0178\n",
      "Epoch 29/200\n",
      "67/67 [==============================] - 2s 25ms/step - loss: 0.0185 - val_loss: 0.0178\n",
      "Epoch 30/200\n",
      "67/67 [==============================] - 2s 28ms/step - loss: 0.0184 - val_loss: 0.0177\n",
      "Epoch 31/200\n",
      "67/67 [==============================] - 2s 29ms/step - loss: 0.0183 - val_loss: 0.0176\n",
      "Epoch 32/200\n",
      "67/67 [==============================] - 2s 26ms/step - loss: 0.0182 - val_loss: 0.0175\n",
      "Epoch 33/200\n",
      "67/67 [==============================] - 2s 25ms/step - loss: 0.0181 - val_loss: 0.0174\n",
      "Epoch 34/200\n",
      "67/67 [==============================] - 2s 26ms/step - loss: 0.0180 - val_loss: 0.0174\n",
      "Epoch 35/200\n",
      "67/67 [==============================] - 2s 25ms/step - loss: 0.0179 - val_loss: 0.0173\n",
      "Epoch 36/200\n",
      "67/67 [==============================] - 2s 25ms/step - loss: 0.0178 - val_loss: 0.0173\n",
      "Epoch 37/200\n",
      "67/67 [==============================] - 2s 25ms/step - loss: 0.0178 - val_loss: 0.0172\n",
      "Epoch 38/200\n",
      "67/67 [==============================] - 2s 25ms/step - loss: 0.0176 - val_loss: 0.0171\n",
      "Epoch 39/200\n",
      "67/67 [==============================] - 2s 28ms/step - loss: 0.0175 - val_loss: 0.0171\n",
      "Epoch 40/200\n",
      "67/67 [==============================] - 2s 25ms/step - loss: 0.0175 - val_loss: 0.0170\n",
      "Epoch 41/200\n",
      "67/67 [==============================] - 2s 26ms/step - loss: 0.0174 - val_loss: 0.0170\n",
      "Epoch 42/200\n",
      "67/67 [==============================] - 2s 24ms/step - loss: 0.0172 - val_loss: 0.0169\n",
      "Epoch 43/200\n",
      "67/67 [==============================] - 2s 24ms/step - loss: 0.0171 - val_loss: 0.0169\n",
      "Epoch 44/200\n",
      "67/67 [==============================] - 2s 24ms/step - loss: 0.0170 - val_loss: 0.0168\n",
      "Epoch 45/200\n",
      "67/67 [==============================] - 2s 25ms/step - loss: 0.0168 - val_loss: 0.0167\n",
      "Epoch 46/200\n",
      "67/67 [==============================] - 2s 24ms/step - loss: 0.0168 - val_loss: 0.0167\n",
      "Epoch 47/200\n",
      "67/67 [==============================] - 2s 25ms/step - loss: 0.0167 - val_loss: 0.0167\n",
      "Epoch 48/200\n",
      "67/67 [==============================] - 2s 27ms/step - loss: 0.0165 - val_loss: 0.0166\n",
      "Epoch 49/200\n",
      "67/67 [==============================] - 2s 25ms/step - loss: 0.0165 - val_loss: 0.0166\n",
      "Epoch 50/200\n",
      "67/67 [==============================] - 2s 27ms/step - loss: 0.0163 - val_loss: 0.0165\n",
      "Epoch 51/200\n",
      "67/67 [==============================] - 2s 25ms/step - loss: 0.0163 - val_loss: 0.0165\n",
      "Epoch 52/200\n",
      "67/67 [==============================] - 2s 29ms/step - loss: 0.0162 - val_loss: 0.0165\n",
      "Epoch 53/200\n",
      "67/67 [==============================] - 2s 27ms/step - loss: 0.0160 - val_loss: 0.0164\n",
      "Epoch 54/200\n",
      "67/67 [==============================] - 2s 26ms/step - loss: 0.0161 - val_loss: 0.0165\n",
      "Epoch 55/200\n",
      "67/67 [==============================] - 2s 31ms/step - loss: 0.0159 - val_loss: 0.0165\n",
      "Epoch 56/200\n",
      "67/67 [==============================] - 2s 31ms/step - loss: 0.0159 - val_loss: 0.0164\n",
      "Epoch 57/200\n",
      "67/67 [==============================] - 2s 34ms/step - loss: 0.0157 - val_loss: 0.0164\n",
      "Epoch 58/200\n",
      "67/67 [==============================] - 2s 32ms/step - loss: 0.0156 - val_loss: 0.0165\n",
      "Epoch 59/200\n",
      "67/67 [==============================] - 2s 28ms/step - loss: 0.0155 - val_loss: 0.0165\n",
      "Epoch 60/200\n",
      "67/67 [==============================] - 2s 30ms/step - loss: 0.0155 - val_loss: 0.0165\n",
      "Epoch 61/200\n",
      "67/67 [==============================] - 2s 25ms/step - loss: 0.0154 - val_loss: 0.0165\n",
      "Epoch 62/200\n",
      "67/67 [==============================] - 2s 27ms/step - loss: 0.0153 - val_loss: 0.0165\n",
      "Epoch 63/200\n",
      "67/67 [==============================] - 2s 28ms/step - loss: 0.0152 - val_loss: 0.0165\n",
      "Epoch 64/200\n",
      "67/67 [==============================] - 2s 29ms/step - loss: 0.0151 - val_loss: 0.0165\n",
      "Epoch 65/200\n",
      "67/67 [==============================] - 2s 30ms/step - loss: 0.0150 - val_loss: 0.0164\n",
      "Epoch 66/200\n",
      "67/67 [==============================] - 2s 26ms/step - loss: 0.0149 - val_loss: 0.0165\n",
      "Epoch 67/200\n",
      "67/67 [==============================] - 2s 25ms/step - loss: 0.0148 - val_loss: 0.0166\n",
      "Epoch 68/200\n",
      "67/67 [==============================] - 2s 29ms/step - loss: 0.0148 - val_loss: 0.0165\n",
      "Epoch 69/200\n",
      "67/67 [==============================] - 2s 31ms/step - loss: 0.0146 - val_loss: 0.0166\n",
      "Epoch 70/200\n",
      "67/67 [==============================] - 2s 30ms/step - loss: 0.0145 - val_loss: 0.0166\n",
      "Epoch 71/200\n",
      "67/67 [==============================] - 2s 24ms/step - loss: 0.0145 - val_loss: 0.0167\n",
      "Epoch 72/200\n",
      "67/67 [==============================] - 2s 24ms/step - loss: 0.0143 - val_loss: 0.0167\n",
      "Epoch 73/200\n",
      "67/67 [==============================] - 2s 25ms/step - loss: 0.0143 - val_loss: 0.0168\n",
      "Epoch 74/200\n",
      "67/67 [==============================] - 2s 25ms/step - loss: 0.0141 - val_loss: 0.0168\n",
      "Epoch 75/200\n",
      "67/67 [==============================] - 2s 28ms/step - loss: 0.0140 - val_loss: 0.0169\n",
      "Epoch 00075: early stopping\n",
      "logarithmic loss between test data and real data is = 0.016927532851696014\n"
     ]
    }
   ],
   "source": [
    "if(RUN_KERAS):\n",
    "    #split data\n",
    "    X_train, X_test, y_train, y_test = train_test_split(X, Y, test_size=0.3, shuffle=True)\n",
    "\n",
    "    #update param dict\n",
    "    param['definition']['n_inputs'], param['definition']['n_outputs'] = X_train.shape[1], y_train.shape[1]\n",
    "\n",
    "    #define model\n",
    "    clf = define_model(param['definition'])\n",
    "\n",
    "    #train model\n",
    "    param['fitting']['callbacks'].append(EarlyStopping(monitor='val_loss', mode='min', verbose=1, patience=10))\n",
    "    clf.fit(X_train, y_train, **param['fitting'])\n",
    "\n",
    "    #predict with test features\n",
    "    y_predict = clf.predict(X_test)\n",
    "\n",
    "    #evaluate predictions\n",
    "    bce = BinaryCrossentropy()\n",
    "    loss = bce(y_test, y_predict).numpy()\n",
    "    print(\"logarithmic loss between test data and real data is = {}\".format(loss))"
   ]
  },
  {
   "cell_type": "code",
   "execution_count": 9,
   "metadata": {
    "execution": {
     "iopub.execute_input": "2020-10-27T20:41:49.022898Z",
     "iopub.status.busy": "2020-10-27T20:41:49.021519Z",
     "iopub.status.idle": "2020-10-27T20:41:49.025194Z",
     "shell.execute_reply": "2020-10-27T20:41:49.024519Z"
    },
    "papermill": {
     "duration": 0.869809,
     "end_time": "2020-10-27T20:41:49.025319",
     "exception": false,
     "start_time": "2020-10-27T20:41:48.155510",
     "status": "completed"
    },
    "tags": []
   },
   "outputs": [],
   "source": [
    "if(INVESTIGATE_BEST_MODEL):\n",
    "    # create model\n",
    "    model = KerasClassifier(build_fn=create_model, n_in=n_inputs, n_out=n_outputs, verbose=0)\n",
    "\n",
    "    # define the grid search parameters\n",
    "    batch_size = [100, 200]\n",
    "    epochs = [50, 100]\n",
    "    param_grid = dict(batch_size=batch_size, epochs=epochs)\n",
    "    print(param_grid)\n",
    "    grid = GridSearchCV(estimator=model, param_grid=param_grid, n_jobs=-1, cv=3)\n",
    "    grid_result = grid.fit(X_train, y_train)\n",
    "\n",
    "    # summarize results\n",
    "    print(\"Best: %f using %s\" % (grid_result.best_score_, grid_result.best_params_))\n",
    "    means = grid_result.cv_results_['mean_test_score']\n",
    "    stds = grid_result.cv_results_['std_test_score']\n",
    "    params = grid_result.cv_results_['params']\n",
    "    for mean, stdev, param in zip(means, stds, params):\n",
    "        print(\"%f (%f) with: %r\" % (mean, stdev, param))"
   ]
  },
  {
   "cell_type": "markdown",
   "metadata": {
    "papermill": {
     "duration": 0.906165,
     "end_time": "2020-10-27T20:41:50.788174",
     "exception": false,
     "start_time": "2020-10-27T20:41:49.882009",
     "status": "completed"
    },
    "tags": []
   },
   "source": [
    "# Prediction Section"
   ]
  },
  {
   "cell_type": "code",
   "execution_count": 10,
   "metadata": {
    "execution": {
     "iopub.execute_input": "2020-10-27T20:41:52.502971Z",
     "iopub.status.busy": "2020-10-27T20:41:52.502118Z",
     "iopub.status.idle": "2020-10-27T20:41:54.925961Z",
     "shell.execute_reply": "2020-10-27T20:41:54.926797Z"
    },
    "papermill": {
     "duration": 3.295757,
     "end_time": "2020-10-27T20:41:54.927028",
     "exception": false,
     "start_time": "2020-10-27T20:41:51.631271",
     "status": "completed"
    },
    "tags": []
   },
   "outputs": [],
   "source": [
    "if(MAKE_PREDICTION):\n",
    "    test_features_ = pca.transform(test_features[list(set(test_features.columns)-set(columns_to_remove))])\n",
    "    predictions = clf.predict(test_features_)\n",
    "    submission_sample = pd.DataFrame(data=predictions,\n",
    "                                     index=test_features.index,\n",
    "                                     columns=train_targets_scored.columns).reset_index(drop=False)\n",
    "    submission_sample.to_csv('submission.csv', index=False)\n",
    "    submission_sample.head()"
   ]
  },
  {
   "cell_type": "markdown",
   "metadata": {
    "papermill": {
     "duration": 0.920294,
     "end_time": "2020-10-27T20:41:56.768493",
     "exception": false,
     "start_time": "2020-10-27T20:41:55.848199",
     "status": "completed"
    },
    "tags": []
   },
   "source": [
    "=> No major improvement with the PCA so far"
   ]
  },
  {
   "cell_type": "code",
   "execution_count": null,
   "metadata": {
    "papermill": {
     "duration": 0.868958,
     "end_time": "2020-10-27T20:41:58.493573",
     "exception": false,
     "start_time": "2020-10-27T20:41:57.624615",
     "status": "completed"
    },
    "tags": []
   },
   "outputs": [],
   "source": []
  }
 ],
 "metadata": {
  "kernelspec": {
   "display_name": "Python 3",
   "language": "python",
   "name": "python3"
  },
  "language_info": {
   "codemirror_mode": {
    "name": "ipython",
    "version": 3
   },
   "file_extension": ".py",
   "mimetype": "text/x-python",
   "name": "python",
   "nbconvert_exporter": "python",
   "pygments_lexer": "ipython3",
   "version": "3.7.6"
  },
  "papermill": {
   "duration": 255.132038,
   "end_time": "2020-10-27T20:41:59.459684",
   "environment_variables": {},
   "exception": null,
   "input_path": "__notebook__.ipynb",
   "output_path": "__notebook__.ipynb",
   "parameters": {},
   "start_time": "2020-10-27T20:37:44.327646",
   "version": "2.1.0"
  }
 },
 "nbformat": 4,
 "nbformat_minor": 4
}
